{
  "nbformat": 4,
  "nbformat_minor": 0,
  "metadata": {
    "colab": {
      "name": "auto_lyrics.ipynb",
      "provenance": [],
      "collapsed_sections": [],
      "authorship_tag": "ABX9TyP8Jhnixkl0Z2wKd9f43XI6",
      "include_colab_link": true
    },
    "kernelspec": {
      "name": "python3",
      "display_name": "Python 3"
    },
    "accelerator": "GPU"
  },
  "cells": [
    {
      "cell_type": "markdown",
      "metadata": {
        "id": "view-in-github",
        "colab_type": "text"
      },
      "source": [
        "<a href=\"https://colab.research.google.com/github/AlkinD/Python-nlp/blob/master/auto_lyrics.ipynb\" target=\"_parent\"><img src=\"https://colab.research.google.com/assets/colab-badge.svg\" alt=\"Open In Colab\"/></a>"
      ]
    },
    {
      "cell_type": "code",
      "metadata": {
        "id": "sU2yirAvr7yY",
        "colab_type": "code",
        "colab": {}
      },
      "source": [
        "import tensorflow as tf\n",
        "\n",
        "from tensorflow.keras.preprocessing.sequence import pad_sequences\n",
        "from tensorflow.keras.preprocessing.text import Tokenizer\n",
        "from tensorflow.keras.layers import Embedding,LSTM,Dense,Bidirectional\n",
        "from tensorflow.keras.models import Sequential\n",
        "from tensorflow.keras.optimizers import Adam\n",
        "import numpy as np\n"
      ],
      "execution_count": 0,
      "outputs": []
    },
    {
      "cell_type": "code",
      "metadata": {
        "id": "8F8ssg-LtwIY",
        "colab_type": "code",
        "outputId": "94fff115-e3b4-4d2d-ff48-cbcfe6ca83ee",
        "colab": {
          "base_uri": "https://localhost:8080/",
          "height": 204
        }
      },
      "source": [
        "!pip install kaggle"
      ],
      "execution_count": 0,
      "outputs": [
        {
          "output_type": "stream",
          "text": [
            "Requirement already satisfied: kaggle in /usr/local/lib/python3.6/dist-packages (1.5.6)\n",
            "Requirement already satisfied: certifi in /usr/local/lib/python3.6/dist-packages (from kaggle) (2020.4.5.1)\n",
            "Requirement already satisfied: tqdm in /usr/local/lib/python3.6/dist-packages (from kaggle) (4.41.1)\n",
            "Requirement already satisfied: python-dateutil in /usr/local/lib/python3.6/dist-packages (from kaggle) (2.8.1)\n",
            "Requirement already satisfied: requests in /usr/local/lib/python3.6/dist-packages (from kaggle) (2.23.0)\n",
            "Requirement already satisfied: urllib3<1.25,>=1.21.1 in /usr/local/lib/python3.6/dist-packages (from kaggle) (1.24.3)\n",
            "Requirement already satisfied: six>=1.10 in /usr/local/lib/python3.6/dist-packages (from kaggle) (1.12.0)\n",
            "Requirement already satisfied: python-slugify in /usr/local/lib/python3.6/dist-packages (from kaggle) (4.0.0)\n",
            "Requirement already satisfied: idna<3,>=2.5 in /usr/local/lib/python3.6/dist-packages (from requests->kaggle) (2.9)\n",
            "Requirement already satisfied: chardet<4,>=3.0.2 in /usr/local/lib/python3.6/dist-packages (from requests->kaggle) (3.0.4)\n",
            "Requirement already satisfied: text-unidecode>=1.3 in /usr/local/lib/python3.6/dist-packages (from python-slugify->kaggle) (1.3)\n"
          ],
          "name": "stdout"
        }
      ]
    },
    {
      "cell_type": "code",
      "metadata": {
        "id": "bSuGTkSSjxly",
        "colab_type": "code",
        "outputId": "b4fca32f-cfc5-4515-e838-547c0e735039",
        "colab": {
          "resources": {
            "http://localhost:8080/nbextensions/google.colab/files.js": {
              "data": "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",
              "ok": true,
              "headers": [
                [
                  "content-type",
                  "application/javascript"
                ]
              ],
              "status": 200,
              "status_text": ""
            }
          },
          "base_uri": "https://localhost:8080/",
          "height": 74
        }
      },
      "source": [
        "from google.colab import files\n",
        "files.upload()\n",
        "\n",
        "!mkdir -p ~/.kaggle\n",
        "!cp kaggle.json ~/.kaggle/\n",
        "!chmod 600 ~/.kaggle/kaggle.json"
      ],
      "execution_count": 0,
      "outputs": [
        {
          "output_type": "display_data",
          "data": {
            "text/html": [
              "\n",
              "     <input type=\"file\" id=\"files-f81719d2-6f42-4614-8509-383e9e7330e2\" name=\"files[]\" multiple disabled />\n",
              "     <output id=\"result-f81719d2-6f42-4614-8509-383e9e7330e2\">\n",
              "      Upload widget is only available when the cell has been executed in the\n",
              "      current browser session. Please rerun this cell to enable.\n",
              "      </output>\n",
              "      <script src=\"/nbextensions/google.colab/files.js\"></script> "
            ],
            "text/plain": [
              "<IPython.core.display.HTML object>"
            ]
          },
          "metadata": {
            "tags": []
          }
        },
        {
          "output_type": "stream",
          "text": [
            "Saving kaggle.json to kaggle.json\n"
          ],
          "name": "stdout"
        }
      ]
    },
    {
      "cell_type": "code",
      "metadata": {
        "id": "bt7AoCifurjT",
        "colab_type": "code",
        "outputId": "40701e11-3970-4a7d-bd87-6dc14b9ac584",
        "colab": {
          "base_uri": "https://localhost:8080/",
          "height": 68
        }
      },
      "source": [
        "!kaggle datasets download -d PromptCloudHQ/taylor-swift-song-lyrics-from-all-the-albums"
      ],
      "execution_count": 0,
      "outputs": [
        {
          "output_type": "stream",
          "text": [
            "Downloading taylor-swift-song-lyrics-from-all-the-albums.zip to /content\n",
            "\r  0% 0.00/68.7k [00:00<?, ?B/s]\n",
            "\r100% 68.7k/68.7k [00:00<00:00, 60.3MB/s]\n"
          ],
          "name": "stdout"
        }
      ]
    },
    {
      "cell_type": "code",
      "metadata": {
        "id": "5qMG9T41vBRw",
        "colab_type": "code",
        "outputId": "7d910566-38cb-474a-bfe5-b95c1751d239",
        "colab": {
          "base_uri": "https://localhost:8080/",
          "height": 34
        }
      },
      "source": [
        "!ls"
      ],
      "execution_count": 0,
      "outputs": [
        {
          "output_type": "stream",
          "text": [
            "kaggle.json  sample_data  taylor-swift-song-lyrics-from-all-the-albums.zip\n"
          ],
          "name": "stdout"
        }
      ]
    },
    {
      "cell_type": "code",
      "metadata": {
        "id": "a1oNS4N47mAn",
        "colab_type": "code",
        "colab": {}
      },
      "source": [
        "import zipfile\n",
        "zip_ref = zipfile.ZipFile('taylor-swift-song-lyrics-from-all-the-albums.zip', 'r')\n",
        "zip_ref.extractall('files')\n",
        "zip_ref.close()\n"
      ],
      "execution_count": 0,
      "outputs": []
    },
    {
      "cell_type": "code",
      "metadata": {
        "id": "uGMlJr6H8H7v",
        "colab_type": "code",
        "outputId": "f371cbb7-545a-41ff-850d-5c85057fec63",
        "colab": {
          "base_uri": "https://localhost:8080/",
          "height": 204
        }
      },
      "source": [
        "import pandas as pd\n",
        "#Load the dataset\n",
        "dataset = pd.read_csv('/content/files/taylor_swift_lyrics.csv', encoding = \"latin1\")\n",
        "dataset.head()\n",
        "\n"
      ],
      "execution_count": 0,
      "outputs": [
        {
          "output_type": "execute_result",
          "data": {
            "text/html": [
              "<div>\n",
              "<style scoped>\n",
              "    .dataframe tbody tr th:only-of-type {\n",
              "        vertical-align: middle;\n",
              "    }\n",
              "\n",
              "    .dataframe tbody tr th {\n",
              "        vertical-align: top;\n",
              "    }\n",
              "\n",
              "    .dataframe thead th {\n",
              "        text-align: right;\n",
              "    }\n",
              "</style>\n",
              "<table border=\"1\" class=\"dataframe\">\n",
              "  <thead>\n",
              "    <tr style=\"text-align: right;\">\n",
              "      <th></th>\n",
              "      <th>artist</th>\n",
              "      <th>album</th>\n",
              "      <th>track_title</th>\n",
              "      <th>track_n</th>\n",
              "      <th>lyric</th>\n",
              "      <th>line</th>\n",
              "      <th>year</th>\n",
              "    </tr>\n",
              "  </thead>\n",
              "  <tbody>\n",
              "    <tr>\n",
              "      <th>0</th>\n",
              "      <td>Taylor Swift</td>\n",
              "      <td>Taylor Swift</td>\n",
              "      <td>Tim McGraw</td>\n",
              "      <td>1</td>\n",
              "      <td>He said the way my blue eyes shined</td>\n",
              "      <td>1</td>\n",
              "      <td>2006</td>\n",
              "    </tr>\n",
              "    <tr>\n",
              "      <th>1</th>\n",
              "      <td>Taylor Swift</td>\n",
              "      <td>Taylor Swift</td>\n",
              "      <td>Tim McGraw</td>\n",
              "      <td>1</td>\n",
              "      <td>Put those Georgia stars to shame that night</td>\n",
              "      <td>2</td>\n",
              "      <td>2006</td>\n",
              "    </tr>\n",
              "    <tr>\n",
              "      <th>2</th>\n",
              "      <td>Taylor Swift</td>\n",
              "      <td>Taylor Swift</td>\n",
              "      <td>Tim McGraw</td>\n",
              "      <td>1</td>\n",
              "      <td>I said, \"That's a lie\"</td>\n",
              "      <td>3</td>\n",
              "      <td>2006</td>\n",
              "    </tr>\n",
              "    <tr>\n",
              "      <th>3</th>\n",
              "      <td>Taylor Swift</td>\n",
              "      <td>Taylor Swift</td>\n",
              "      <td>Tim McGraw</td>\n",
              "      <td>1</td>\n",
              "      <td>Just a boy in a Chevy truck</td>\n",
              "      <td>4</td>\n",
              "      <td>2006</td>\n",
              "    </tr>\n",
              "    <tr>\n",
              "      <th>4</th>\n",
              "      <td>Taylor Swift</td>\n",
              "      <td>Taylor Swift</td>\n",
              "      <td>Tim McGraw</td>\n",
              "      <td>1</td>\n",
              "      <td>That had a tendency of gettin' stuck</td>\n",
              "      <td>5</td>\n",
              "      <td>2006</td>\n",
              "    </tr>\n",
              "  </tbody>\n",
              "</table>\n",
              "</div>"
            ],
            "text/plain": [
              "         artist         album  ... line  year\n",
              "0  Taylor Swift  Taylor Swift  ...    1  2006\n",
              "1  Taylor Swift  Taylor Swift  ...    2  2006\n",
              "2  Taylor Swift  Taylor Swift  ...    3  2006\n",
              "3  Taylor Swift  Taylor Swift  ...    4  2006\n",
              "4  Taylor Swift  Taylor Swift  ...    5  2006\n",
              "\n",
              "[5 rows x 7 columns]"
            ]
          },
          "metadata": {
            "tags": []
          },
          "execution_count": 35
        }
      ]
    },
    {
      "cell_type": "code",
      "metadata": {
        "id": "CyZ7b5lA98cK",
        "colab_type": "code",
        "colab": {}
      },
      "source": [
        "def processFirstLine(lyrics, songID, songName, row):\n",
        "    lyrics.append(row['lyric'] + '\\n')\n",
        "    songID.append( row['year']*100+ row['track_n'])\n",
        "    songName.append(row['track_title'])\n",
        "    return lyrics,songID,songName\n",
        "# define empty lists for the lyrics , songID , songName \n",
        "lyrics = []\n",
        "songID = []\n",
        "songName = []\n",
        "# songNumber indicates the song number in the dataset\n",
        "songNumber = 1\n",
        "# i indicates the song number\n",
        "i = 0\n",
        "isFirstLine = True\n",
        "# Iterate through every lyrics line and join them together for each song independently \n",
        "for index,row in dataset.iterrows():\n",
        "    if(songNumber == row['track_n']):\n",
        "        if (isFirstLine):\n",
        "            lyrics,songID,songName = processFirstLine(lyrics,songID,songName,row)\n",
        "            isFirstLine = False\n",
        "        else :\n",
        "            #if we still in the same song , keep joining the lyrics lines    \n",
        "            lyrics[i] +=  row['lyric'] + '\\n'\n",
        "    #When it's done joining a song's lyrics lines , go to the next song :    \n",
        "    else :\n",
        "        lyrics,songID,songName = processFirstLine(lyrics,songID,songName,row)\n",
        "        songNumber = row['track_n']\n",
        "        i+=1"
      ],
      "execution_count": 0,
      "outputs": []
    },
    {
      "cell_type": "code",
      "metadata": {
        "id": "12fMBnti-FBv",
        "colab_type": "code",
        "colab": {}
      },
      "source": [
        "lyrics_data = pd.DataFrame({'songID':songID, 'songName':songName, 'lyrics':lyrics })"
      ],
      "execution_count": 0,
      "outputs": []
    },
    {
      "cell_type": "code",
      "metadata": {
        "id": "0MOMllUM_SCM",
        "colab_type": "code",
        "colab": {}
      },
      "source": [
        "print(lyrics_data)"
      ],
      "execution_count": 0,
      "outputs": []
    },
    {
      "cell_type": "code",
      "metadata": {
        "id": "aj2RKPOw-F54",
        "colab_type": "code",
        "colab": {}
      },
      "source": [
        "# Save Lyrics in .txt file\n",
        "with open('/content/files/lyricsTextnew.txt', 'w',encoding=\"utf-8\") as filehandle:  \n",
        "    for listitem in lyrics:\n",
        "        filehandle.write('%s\\n' % listitem)"
      ],
      "execution_count": 0,
      "outputs": []
    },
    {
      "cell_type": "code",
      "metadata": {
        "id": "W7NIURJs-fFR",
        "colab_type": "code",
        "outputId": "ccfc8ccb-3f2a-416d-f6c5-813c68227e21",
        "colab": {
          "base_uri": "https://localhost:8080/",
          "height": 51
        }
      },
      "source": [
        "!ls"
      ],
      "execution_count": 0,
      "outputs": [
        {
          "output_type": "stream",
          "text": [
            "files\t     sample_data\n",
            "kaggle.json  taylor-swift-song-lyrics-from-all-the-albums.zip\n"
          ],
          "name": "stdout"
        }
      ]
    },
    {
      "cell_type": "code",
      "metadata": {
        "id": "se8P6bRB-whR",
        "colab_type": "code",
        "colab": {}
      },
      "source": [
        "# Load the dataset and convert it to lowercase :\n",
        "textFileName = '/content/files/lyricsTextnew.txt'\n",
        "raw_text = open(textFileName, encoding = 'UTF-8').read()\n",
        "raw_text = raw_text.lower()\n"
      ],
      "execution_count": 0,
      "outputs": []
    },
    {
      "cell_type": "code",
      "metadata": {
        "id": "GZKABM9BAbLo",
        "colab_type": "code",
        "outputId": "c088bc28-bafc-4a1e-b0cc-bd14d15f1192",
        "colab": {
          "base_uri": "https://localhost:8080/",
          "height": 71
        }
      },
      "source": [
        "tokenizer = Tokenizer()\n",
        "\n",
        "data = open('/content/files/lyricsTextnew.txt').read()\n",
        "\n",
        "corpus = data.lower().split(\"\\n\")\n",
        "\n",
        "tokenizer.fit_on_texts(corpus)\n",
        "total_words = len(tokenizer.word_index) + 1\n",
        "\n",
        "print(tokenizer.word_index)\n",
        "print(total_words)\n"
      ],
      "execution_count": 0,
      "outputs": [
        {
          "output_type": "stream",
          "text": [
            "{'you': 1, 'i': 2, 'the': 3, 'and': 4, 'to': 5, 'me': 6, 'it': 7, 'a': 8, 'in': 9, 'my': 10, 'we': 11, 'your': 12, 'of': 13, 'all': 14, 'but': 15, 'that': 16, 'is': 17, 'know': 18, 'like': 19, \"i'm\": 20, 'on': 21, 'this': 22, 'oh': 23, 'be': 24, \"don't\": 25, 'so': 26, 'was': 27, \"you're\": 28, 'now': 29, \"it's\": 30, 'back': 31, 'when': 32, 'what': 33, 'just': 34, 'never': 35, 'are': 36, 'for': 37, 'with': 38, 'time': 39, 'up': 40, 'out': 41, 'love': 42, 'at': 43, 'do': 44, 'got': 45, 'if': 46, \"'cause\": 47, 'say': 48, 'one': 49, 'see': 50, 'baby': 51, 'want': 52, 'think': 53, 'go': 54, 'down': 55, 'ever': 56, 'they': 57, 'said': 58, 'been': 59, 'not': 60, 'he': 61, 'had': 62, \"can't\": 63, 'could': 64, \"i'll\": 65, 'look': 66, 'were': 67, 'no': 68, 'can': 69, 'how': 70, 'would': 71, 'come': 72, 'stay': 73, 'have': 74, 'take': 75, 'off': 76, 'made': 77, 'why': 78, 'wanna': 79, 'there': 80, 'yeah': 81, 'shake': 82, 'here': 83, 'night': 84, 'ey': 85, 'way': 86, 'tell': 87, 'about': 88, 'wish': 89, 'right': 90, 'good': 91, 'yet': 92, 'first': 93, 'get': 94, 'girl': 95, 'too': 96, 'let': 97, 'last': 98, \"that's\": 99, 'as': 100, 'feel': 101, 'bad': 102, \"we're\": 103, 'gonna': 104, 'better': 105, 'home': 106, 'call': 107, 'new': 108, \"i've\": 109, 'our': 110, 'away': 111, \"i'd\": 112, 'everything': 113, 'things': 114, 'eyes': 115, 'did': 116, 'around': 117, 'will': 118, 'dancing': 119, 'long': 120, 'from': 121, 'break': 122, 'still': 123, 'knew': 124, 'make': 125, 'ooh': 126, 'gone': 127, 'little': 128, 'nothing': 129, 'life': 130, 'best': 131, 'mind': 132, 'waiting': 133, 'forever': 134, 'him': 135, 'remember': 136, 'ah': 137, 'then': 138, 'alone': 139, 'through': 140, 'us': 141, 'again': 142, 'name': 143, 'la': 144, 'lights': 145, \"he's\": 146, 'only': 147, 'hands': 148, 'day': 149, 'end': 150, \"isn't\": 151, \"didn't\": 152, 'hold': 153, 'something': 154, 'every': 155, 'she': 156, 'ha': 157, 'by': 158, 'beautiful': 159, 'who': 160, 'woods': 161, 'clear': 162, \"you'll\": 163, 'should': 164, 'heart': 165, 'car': 166, 'sorry': 167, 'keep': 168, 'them': 169, 'hey': 170, 'whoa': 171, 'feeling': 172, 'where': 173, 'or': 174, 'dress': 175, 'his': 176, 'asking': 177, \"there's\": 178, 'thing': 179, \"won't\": 180, \"she's\": 181, 'face': 182, 'before': 183, 'play': 184, 'an': 185, 'mean': 186, 'hate': 187, \"ain't\": 188, 'door': 189, 'run': 190, 'big': 191, 'mad': 192, 'york': 193, 'put': 194, 'hope': 195, 'than': 196, 'even': 197, 'well': 198, 'room': 199, \"you've\": 200, 'once': 201, 'light': 202, 'into': 203, 'world': 204, 'dreams': 205, 'welcome': 206, 'her': 207, 'thought': 208, 'game': 209, 'place': 210, 'friends': 211, 'smile': 212, 'live': 213, 'trying': 214, 'looking': 215, 'places': 216, 'talk': 217, 'lost': 218, 'forget': 219, 'people': 220, \"we've\": 221, 'head': 222, 'mine': 223, 'really': 224, 'knows': 225, 'need': 226, 'fall': 227, 'wrong': 228, 'fly': 229, 'late': 230, 'together': 231, 'their': 232, 'kiss': 233, 'whole': 234, 'uh': 235, 'always': 236, 'took': 237, 'getting': 238, 'leave': 239, 'song': 240, 'old': 241, 'coming': 242, 'rain': 243, 'known': 244, 'everybody': 245, 'trouble': 246, 'some': 247, 'these': 248, \"should've\": 249, 'met': 250, 'help': 251, 'hear': 252, 'much': 253, 'over': 254, 'find': 255, 'turn': 256, 'phone': 257, 'mmm': 258, 'miss': 259, 'red': 260, 'starlight': 261, 'getaway': 262, 'those': 263, 'saw': 264, 'nice': 265, 'fake': 266, 'wanted': 267, 'save': 268, 'found': 269, 'dance': 270, 'meet': 271, 'grow': 272, 'follow': 273, 'wonderland': 274, 'hard': 275, 'going': 276, 'might': 277, 'tied': 278, 'change': 279, 'used': 280, 'myself': 281, 'hand': 282, 'has': 283, 'loved': 284, 'believe': 285, 'someday': 286, 'heard': 287, 'walk': 288, 'thinking': 289, 'town': 290, 'came': 291, 'makes': 292, 'mm': 293, 'wait': 294, 'since': 295, 'left': 296, 'drive': 297, 'cause': 298, 'very': 299, 'try': 300, 'other': 301, 'please': 302, 'silence': 303, \"they'll\": 304, 'shine': 305, 'crazy': 306, 'watch': 307, 'far': 308, 'enough': 309, 'nobody': 310, 'am': 311, 'high': 312, 'yes': 313, 'beat': 314, 'standing': 315, 'eye': 316, 'darling': 317, 'blue': 318, 'bet': 319, 'goes': 320, 'lucky': 321, 'story': 322, 'honey': 323, 'anything': 324, \"we'd\": 325, \"we'll\": 326, 'dark': 327, 'e': 328, 'begin': 329, 'delicate': 330, 'blood': 331, 'another': 332, 'burn': 333, 'fight': 334, 'stood': 335, 'same': 336, 'ground': 337, 'deep': 338, 'because': 339, 'both': 340, 'young': 341, 'sad': 342, 'list': 343, 'games': 344, 'lips': 345, 'works': 346, 'wishing': 347, 'kind': 348, 'give': 349, 'cold': 350, 'true': 351, 'girls': 352, 'moment': 353, 'else': 354, 'cool': 355, 'stand': 356, 'alright': 357, 'memories': 358, 'perfect': 359, 'show': 360, \"you'd\": 361, 'tonight': 362, 'own': 363, \"doesn't\": 364, 'pretty': 365, 'front': 366, 'walked': 367, 'many': 368, 'laughing': 369, 'team': 370, 'magic': 371, 'belong': 372, 'easy': 373, 'simple': 374, 'lose': 375, 'gotta': 376, 'yours': 377, '22': 378, 'aah': 379, 'gorgeous': 380, 'fine': 381, 'without': 382, 'finally': 383, 'breathe': 384, 'perfectly': 385, 'maybe': 386, 'walking': 387, 'loving': 388, 'times': 389, 'hair': 390, 'almost': 391, 'side': 392, 'anymore': 393, 'somebody': 394, 'soon': 395, 'changed': 396, 'days': 397, \"here's\": 398, 'rains': 399, 'touch': 400, 'rest': 401, 'december': 402, 'string': 403, \"c'mon\": 404, 'reputation': 405, 'free': 406, 'worse': 407, 'soul': 408, \"usin'\": 409, 'shame': 410, 'black': 411, 'more': 412, 'looks': 413, 'laugh': 414, 'says': 415, 'feels': 416, 'words': 417, 'walls': 418, 'window': 419, 'someone': 420, 'daydream': 421, 'sing': 422, 'next': 423, 'along': 424, 'whenever': 425, 'seen': 426, 'middle': 427, 'starts': 428, 'tired': 429, 'white': 430, 'city': 431, 'felt': 432, 'held': 433, 'nights': 434, 'any': 435, 'ooh\\x97ooh\\x97ooh\\x97ooh\\x97ooh': 436, 'bought': 437, 'style': 438, 'body': 439, 'read': 440, 'street': 441, \"who's\": 442, 'lying': 443, 'picture': 444, 'saying': 445, 'missing': 446, 'funny': 447, 'road': 448, 'today': 449, 'outside': 450, \"'bout\": 451, 'feet': 452, 'till': 453, 'morning': 454, 'after': 455, 'making': 456, \"they're\": 457, 'dead': 458, 'happy': 459, 'friend': 460, 'single': 461, 'screaming': 462, 'insane': 463, 'floor': 464, 'busy': 465, 'quite': 466, 'trust': 467, 'months': 468, 'lord': 469, 'dream': 470, 'haa': 471, \"why's\": 472, \"doin'\": 473, 'boy': 474, 'sitting': 475, 'wonder': 476, 'ask': 477, 'ending': 478, 'went': 479, 'seems': 480, \"could've\": 481, 'losing': 482, 'goodbye': 483, 'does': 484, 'lead': 485, 'pictures': 486, 'past': 487, 'two': 488, 'years': 489, 'real': 490, 'man': 491, 'hide': 492, 'apart': 493, 'caught': 494, 'fearless': 495, 'while': 496, 'fifteen': 497, 'party': 498, 'doing': 499, 'killing': 500, 'clean': 501, 'figured': 502, 'wild': 503, 'speak': 504, 'fell': 505, 'throw': 506, 'pain': 507, 'sparks': 508, 'dressed': 509, 'shaking': 510, 'blame': 511, 'moved': 512, 'treacherous': 513, 'round': 514, 'fun': 515, 'babe': 516, \"'em\": 517, 'ex': 518, 'wildest': 519, 'drug': 520, 'favorite': 521, 'god': 522, 'anyone': 523, \"wouldn't\": 524, 'told': 525, 'lot': 526, 'undone': 527, 'guess': 528, 'looked': 529, 'taking': 530, 'breath': 531, 'gets': 532, 'chance': 533, 'word': 534, 'worth': 535, 'turned': 536, 'slow': 537, 'sometimes': 538, 'small': 539, 'stop': 540, 'inside': 541, 'boys': 542, 'close': 543, 'talking': 544, 'hurt': 545, 'cut': 546, 'innocent': 547, 'bright': 548, 'watched': 549, 'fighting': 550, 'water': 551, 'pouring': 552, 'green': 553, 'turns': 554, \"shoulda'\": 555, 'hit': 556, 'page': 557, 'broke': 558, 'burning': 559, 'cheeks': 560, 'ho': 561, 'king': 562, 'pretend': 563, 'jeans': 564, 'stupid': 565, 'heartbreak': 566, \"haven't\": 567, 'reason': 568, 'singing': 569, 'ready': 570, 'anywhere': 571, 'cried': 572, 'work': 573, 'lonely': 574, 'cry': 575, 'golden': 576, 'sky': 577, 'half': 578, 'scar': 579, 'realized': 580, 'storm': 581, 'gave': 582, 'most': 583, 'flashback': 584, 'wondering': 585, 'wear': 586, 'dreaming': 587, 'movie': 588, 'bring': 589, '2': 590, 'sick': 591, 'line': 592, 'hallelujah': 593, 'mistakes': 594, 'running': 595, \"let's\": 596, 'flew': 597, 'actress': 598, 'flames': 599, 'superman': 600, 'drowning': 601, 'pieces': 602, 'scene': 603, 'shined': 604, 'stars': 605, 'truck': 606, 'summer': 607, 'tim': 608, 'mcgraw': 609, 'keeps': 610, 'wearing': 611, 'mess': 612, 'counting': 613, 'few': 614, 'view': 615, \"water's\": 616, 'conversation': 617, 'strange': 618, \"'fore\": 619, \"shouldn't\": 620, 'crying': 621, 'honestly': 622, 'falling': 623, 'house': 624, 'instead': 625, \"lovin'\": 626, 'invisible': 627, 'open': 628, 'hello': 629, 'romeo': 630, 'pick': 631, 'rocks': 632, 'angel': 633, 'holding': 634, 'catch': 635, 'brought': 636, \"couldn't\": 637, 'space': 638, 'low': 639, 'scared': 640, 'okay': 641, 'faster': 642, 'move': 643, 'reckless': 644, 'drop': 645, 'burned': 646, 'understand': 647, 'everyone': 648, 'fate': 649, 'clothes': 650, 'grown': 651, 'enchanted': 652, 'spend': 653, 'kingdom': 654, 'solve': 655, 'slope': 656, 'future': 657, 'threw': 658, 'problems': 659, 'loves': 660, 'lipstick': 661, 'lovers': 662, 'players': 663, 'worst': 664, 'romantics': 665, 'me\\x97': 666, \"baby's\": 667, 'tears': 668, 'bed': 669, 'three': 670, 'radio': 671, 'takes': 672, 'yourself': 673, 'strike': 674, 'match': 675, 'revenge': 676, 'talks': 677, 'damn': 678, 'tight': 679, \"what's\": 680, 'though': 681, 'strong': 682, 'start': 683, 'given': 684, 'died': 685, 'smiles': 686, 'na': 687, 'flowers': 688, 'yesterday': 689, 'twice': 690, 'begging': 691, 'forgiveness': 692, 'joke': 693, 'bigger': 694, 'wide': 695, \"wasn't\": 696, 'matter': 697, 'living': 698, 'fears': 699, 'drag': 700, 'horse': 701, 'flying': 702, 'ends': 703, 'crowd': 704, 'somewhere': 705, 'princess': 706, 'stephen': 707, 'reasons': 708, 'write': 709, 'comes': 710, 'wake': 711, 'tragedy': 712, 'step': 713, \"hadn't\": 714, 'being': 715, 'each': 716, 'breaking': 717, 'rush': 718, 'called': 719, 'sure': 720, 'names': 721, 'school': 722, 'battle': 723, 'careless': 724, \"man's\": 725, 'careful': 726, 'daughter': 727, 'arms': 728, 'vow': 729, 'queen': 730, 'messed': 731, 'lies': 732, 'crowded': 733, 'dying': 734, 'twist': 735, 'care': 736, 'older': 737, 'wonderstruck': 738, 'stealing': 739, 'brand': 740, 'shirt': 741, 'pretenders': 742, 'spinning': 743, 'stairs': 744, 'ours': 745, 'chasing': 746, 'tall': 747, 'impossible': 748, 'headlights': 749, 'telling': 750, 'taylor': 751, 'top': 752, 'tragic': 753, 'affair': 754, 'lock': 755, 'number': 756, 'crashing': 757, \"why'd\": 758, 'straight': 759, 'hung': 760, 'done': 761, 'sunset': 762, 'must': 763, 'castle': 764, 'drama': 765, 'chill': 766, 'goes\\x85': 767, \"ridin'\": 768, 'lie': 769, 'woke': 770, 'faded': 771, 'realize': 772, 'pickup': 773, 'redneck': 774, 'wasted': 775, 'drew': 776, 'flawless': 777, 'sleep': 778, 'figure': 779, 'mystery': 780, 'rainy': 781, 'use': 782, 'paint': 783, 'lines': 784, 'tried': 785, 'until': 786, 'giving': 787, 'hoping': 788, 'songs': 789, 'piece': 790, 'least': 791, 'block': 792, 'ran': 793, 'believed': 794, 'slamming': 795, 'spot': 796, 'shotgun': 797, 'seat': 798, 'date': 799, 'listen': 800, 'secrets': 801, 'stare': 802, 'fire': 803, 'tear': 804, 'driving': 805, \"'til\": 806, 'pull': 807, 'ten': 808, 'sit': 809, 'afraid': 810, 'faith': 811, \"aren't\": 812, 'mistake': 813, 'knees': 814, 'music': 815, 'minds': 816, 'playing': 817, \"it'll\": 818, 'confused': 819, 'push': 820, 'father': 821, 'second': 822, 'bedroom': 823, 'grab': 824, 'lives': 825, 'rebel': 826, 'flash': 827, 'remind': 828, 'imagined': 829, 'pride': 830, 'freedom': 831, 'sleeping': 832, 'skin': 833, 'swear': 834, 'chain': 835, 'church': 836, 'footsteps': 837, 'dear': 838, 'john': 839, 'blind': 840, 'knocked': 841, 'voice': 842, 'calling': 843, 'impress': 844, 'bar': 845, 'loud': 846, 'drunk': 847, 'lately': 848, 'speaking': 849, 'its': 850, 'saint': 851, \"something's\": 852, 'haunted': 853, 'crashed': 854, 'buttons': 855, 'worry': 856, 'ghosts': 857, 'lip': 858, 'somehow': 859, 'hang': 860, 'hearts': 861, 'grace': 862, 'echoes': 863, 'sound': 864, 'kid': 865, 'everytime': 866, 'blink': 867, 'fit': 868, 'alive': 869, 'rose': 870, 'marvelous': 871, 'tune': 872, 'nines': 873, 'spending': 874, 'wednesday': 875, 'cafe': 876, 'james': 877, 'pass': 878, 'forevermore': 879, 'neck': 880, 'palm': 881, 'ahh': 882, 'haters': 883, 'moves': 884, 'staring': 885, 'rosy': 886, 'ghost': 887, 'mark': 888, 'trace': 889, 'pretended': 890, 'toast': 891, 'build': 892, 'bricks': 893, 'such': 894, 'island': 895, 'check': 896, 'trusts': 897, 'starring': 898, 'jet': 899, 'patience': 900, 'pining': 901, 'become': 902, 'stranger': 903, 'whose': 904, 'recognize': 905, 'danced': 906, 'happiness': 907, 'chest': 908, 'month': 909, \"weren't\": 910, 'letter': 911, 'state': 912, 'concerned': 913, 'teardrops': 914, 'guitar': 915, 'walks': 916, 'gray': 917, 'great': 918, 'dreamer': 919, 'less': 920, 'lets': 921, 'part': 922, 'mirror': 923, 'jumping': 924, 'letting': 925, 'pay': 926, 'whispers': 927, 'seven': 928, 'growing': 929, 'mamas': 930, 'kids': 931, 'm': 932, 'riding': 933, 'doors': 934, 'kissing': 935, 'screen': 936, \"sneakin'\": 937, 'tapping': 938, 'mama': 939, 'amen': 940, 'note': 941, \"she'll\": 942, 'miracle': 943, 'unbelievable': 944, 'four': 945, 'tells': 946, \"'round\": 947, 'football': 948, 'air': 949, 'ball': 950, 'juliet': 951, 'prince': 952, 'garden': 953, 'quiet': 954, 'leaving': 955, 'forth': 956, \"holdin'\": 957, 'shoulda': 958, 'fairytale': 959, 'girlfriend': 960, 't': 961, 'understands': 962, 'streets': 963, 'shot': 964, 'bulletproof': 965, 'temper': 966, 'ruin': 967, 'straw': 968, 'fade': 969, 'incredible': 970, 'jealous': 971, '2am': 972, 'act': 973, 'exactly': 974, 'onto': 975, 'happened': 976, \"hasn't\": 977, 'coat': 978, 'gold': 979, 'asleep': 980, 'trees': 981, 'keys': 982, 'grew': 983, 'set': 984, 'age': 985, 'ships': 986, 'revolution': 987, 'win': 988, 'flight': 989, 'risk': 990, 'fear': 991, 'lasts': 992, 'drawer': 993, 'learn': 994, 'sidewalk': 995, \"that'll\": 996, 'haunt': 997, 'idea': 998, 'keeping': 999, 'family': 1000, 'weather': 1001, 'swallowing': 1002, 'passed': 1003, 'sweet': 1004, 'da': 1005, 'regret': 1006, 'fast': 1007, 'picking': 1008, 'already': 1009, 'ones': 1010, \"nothing's\": 1011, 'enchanting': 1012, 'sparkling': 1013, 'blushing': 1014, 'applause': 1015, 'mattress': 1016, \"people's\": 1017, 'toys': 1018, 'playground': 1019, 'thinks': 1020, 'roll': 1021, 'easier': 1022, 'tough': 1023, 'fragile': 1024, 'terribly': 1025, 'started': 1026, 'pockets': 1027, 'sun': 1028, 'changing': 1029, 'crowds': 1030, 'kings': 1031, 'queens': 1032, 'remembered': 1033, 'band': 1034, 'rule': 1035, 'choice': 1036, 'stakes': 1037, 'rough': 1038, 'drives': 1039, 'hurts': 1040, 'broken': 1041, 'unless': 1042, 'wind': 1043, 'grey': 1044, 'forgetting': 1045, 'touching': 1046, 'sleepless': 1047, 'echoed': 1048, 'safe': 1049, 'ago': 1050, 'turning': 1051, 'needed': 1052, 'week': 1053, 'midnight': 1054, 'ditch': 1055, 'news': 1056, 'chair': 1057, 'skip': 1058, 'holy': 1059, 'dust': 1060, 'locket': 1061, 'fix': 1062, 'cars': 1063, 'money': 1064, 'hell': 1065, 'eight': 1066, \"would've\": 1067, 'motion': 1068, 'proposition': 1069, 'soundtrack': 1070, 'rumors': 1071, \"dyin'\": 1072, 'breathless': 1073, 'hmm': 1074, 'nasty': 1075, 'blank': 1076, 'kisses': 1077, 'dean': 1078, 'classic': 1079, 'heartbreakers': 1080, 'fakers': 1081, '00': 1082, 'handsome': 1083, 'hunters': 1084, 'foxes': 1085, 'tails': 1086, 'track': 1087, 'proof': 1088, 'spent': 1089, 'national': 1090, 'anthem': 1091, 'proudly': 1092, \"gon'\": 1093, 'breeze': 1094, 'amp': 1095, 'drinking': 1096, 'truth': 1097, \"reputation's\": 1098, 'me\\x85': 1099, 'promises': 1100, 'drink': 1101, 'scratches': 1102, 'furious': 1103, \"drivin'\": 1104, \"flyin'\": 1105, 'sirens': 1106, 'secret': 1107, 'stops': 1108, 'carve': 1109, 'bedpost': 1110, 'stream': 1111, 'above': 1112, 'midnights': 1113, 'cleaning': 1114, 'bottles': 1115, \"year's\": 1116, 'georgia': 1117, \"gettin'\": 1118, 'moon': 1119, 'spotlight': 1120, 'lake': 1121, 'september': 1122, 'beneath': 1123, \"daddy's\": 1124, 'star': 1125, 'taken': 1126, 'ok': 1127, 'defending': 1128, 'scars': 1129, 'between': 1130, 'nowhere': 1131, 'pocket': 1132, 'leaves': 1133, 'price': 1134, 'corner': 1135, 'finds': 1136, 'weakness': 1137, 'nine': 1138, 'daddies': 1139, 'smiled': 1140, 'rolled': 1141, 'suddenly': 1142, 'beds': 1143, 'stayed': 1144, 'knee': 1145, 'aisle': 1146, 'porch': 1147, 'eighty': 1148, 'notice': 1149, 'roses': 1150, 'album': 1151, 'wrote': 1152, 'field': 1153, 'huh': 1154, 'shadows': 1155, 'signs': 1156, 'wall': 1157, 'distance': 1158, 'pavement': 1159, 'brave': 1160, 'year': 1161, 'abigail': 1162, 'swore': 1163, 'marry': 1164, 'heal': 1165, 'supposed': 1166, 'balcony': 1167, 'throwing': 1168, 'daddy': 1169, 'staircase': 1170, 'sneak': 1171, 'escape': 1172, 'scarlet': 1173, 'dad': 1174, 'tossing': 1175, 'near': 1176, 'sweep': 1177, 'stairwell': 1178, 'hollywood': 1179, 'endings': 1180, \"beggin'\": 1181, 'actually': 1182, 'tuesday': 1183, 'listening': 1184, 'wears': 1185, 'cheer': 1186, 'captain': 1187, 'bleachers': 1188, 'heels': 1189, 'swing': 1190, 'attitude': 1191, 'heartbeat': 1192, 'streak': 1193, 'cover': 1194, 'book': 1195, 'share': 1196, 'worked': 1197, 'crawling': 1198, 'beg': 1199, 'cursing': 1200, 'roller': 1201, 'coaster': 1202, 'calls': 1203, 'mother': 1204, 'faking': 1205, 'complicated': 1206, 'upon': 1207, 'honest': 1208, 'minute': 1209, 'five': 1210, 'stronger': 1211, 'brother': 1212, 'kitchen': 1213, 'smart': 1214, 'staying': 1215, 'watching': 1216, 'blow': 1217, 'history': 1218, 'whatever': 1219, 'fair': 1220, 'tables': 1221, 'couch': 1222, 'arm': 1223, 'surprise': 1224, 'kinda': 1225, 'guard': 1226, 'whisper': 1227, 'glad': 1228, \"how's\": 1229, 'die': 1230, 'birthday': 1231, 'probably': 1232, 'rudely': 1233, 'barging': 1234, 'veil': 1235, 'occasion': 1236, 'marrying': 1237, 'hiding': 1238, 'peace': 1239, 'praying': 1240, 'rules': 1241, 'which': 1242, 'traitors': 1243, 'ignored': 1244, 'played': 1245, 'shining': 1246, 'empty': 1247, 'knives': 1248, 'against': 1249, 'sides': 1250, 'flaws': 1251, 'pushed': 1252, \"nobody's\": 1253, 'searching': 1254, 'pretending': 1255, 'liked': 1256, 'armor': 1257, 'wrapped': 1258, 'tuck': 1259, 'movies': 1260, 'shots': 1261, \"one's\": 1262, 'memorize': 1263, 'sounded': 1264, 'apartment': 1265, 'dropped': 1266, 'whispered': 1267, 'across': 1268, 'counter': 1269, 'quick': 1270, 'remarks': 1271, 'pacing': 1272, 'sabotage': 1273, 'underestimated': 1274, 'beating': 1275, 'rhyme': 1276, 'teach': 1277, 'dignity': 1278, 'balance': 1279, 'tightrope': 1280, 'reach': 1281, 'monsters': 1282, '32': 1283, '1': 1284, 'recall': 1285, 'plane': 1286, 'july': 1287, 'reminds': 1288, 'crown': 1289, 'mountains': 1290, 'dragons': 1291, 'falls': 1292, 'promise': 1293, 'theirs': 1294, 'jump': 1295, 'six': 1296, \"thinkin'\": 1297, 'hall': 1298, 'moving': 1299, 'locked': 1300, \"mother's\": 1301, \"sayin'\": 1302, 'struck': 1303, 'twin': 1304, 'shades': 1305, 'worthwhile': 1306, 'ruthless': 1307, 'maserati': 1308, 'sin': 1309, 'autumn': 1310, 'realizing': 1311, 'knowing': 1312, 'path': 1313, 'decide': 1314, 'swept': 1315, 'dangerous': 1316, 'scarf': 1317, 'stories': 1318, 'asked': 1319, 'cruel': 1320, 'paper': 1321, 'self': 1322, 'rare': 1323, 'exes': 1324, 'strangers': 1325, 'miserable': 1326, 'magical': 1327, \"tonight's\": 1328, 'swift': 1329, '\\x91cause': 1330, 'record': 1331, 'we\\x97': 1332, '\\x97getting': 1333, 'expecting': 1334, 'carry': 1335, 'hopes': 1336, 'hanging': 1337, 'haha': 1338, 'fuss': 1339, 'disappear': 1340, 'gary': 1341, 'lightbody': 1342, 'coffee': 1343, 'noise': 1344, 'usual': 1345, 'tracks': 1346, 'warm': 1347, 'different': 1348, 'timing': 1349, 'runs': 1350, 'overnight': 1351, 'lover': 1352, 'later': 1353, 'showed': 1354, 'hours': 1355, 'painted': 1356, 'butterflies': 1357, 'club': 1358, 'ocean': 1359, 'christmas': 1360, 'seem': 1361, 'bathroom': 1362, 'sinking': 1363, 'sinks': 1364, 'taxi': 1365, 'london': 1366, 'closer': 1367, 'learned': 1368, 'cab': 1369, 'under': 1370, 'heaven': 1371, \"love's\": 1372, 'guys': 1373, 'skies': 1374, 'filled': 1375, 'thorns': 1376, 'torture': 1377, 'warn': 1378, 'ya': 1379, 'paradise': 1380, 'slicked': 1381, 'skirt': 1382, 'discovered': 1383, 'color': 1384, 'thinking\\x85': 1385, 'built': 1386, 'necklace': 1387, 'decided': 1388, 'twenty': 1389, 'oo': 1390, \"cruisin'\": 1391, 'liars': 1392, 'dirty': 1393, \"n'\": 1394, 'windows': 1395, 'ahead': 1396, 'crooked': 1397, 'aids': 1398, 'bullet': 1399, 'holes': 1400, 'hindsight': 1401, 'tangled': 1402, 'frames': 1403, 'say\\x97': 1404, 'screams': 1405, 'permanent': 1406, 'glowing': 1407, 'sight': 1408, 'sign': 1409, 'sink': 1410, 'drought': 1411, 'thirst': 1412, 'wine': 1413, 'hole': 1414, 'roof': 1415, 'exciting': 1416, 'shoulders': 1417, 'romantic': 1418, \"tryin'\": 1419, 'reputations': 1420, 'enemies': 1421, 'git': 1422, 'type': 1423, 'beach': 1424, 'tryna': 1425, 'bit': 1426, 'precedes': 1427, 'owe': 1428, \"comin'\": 1429, 'witches': 1430, 'darkest': 1431, 'trip': 1432, \"touchin'\": 1433, 'smarter': 1434, 'harder': 1435, 'nick': 1436, 'underlined': 1437, \"trippin'\": 1438, \"skippin'\": 1439, 'compliment': 1440, 'consequence': 1441, 'x': 1442, 'marks': 1443, 'poisoned': 1444, 'fashioned': 1445, 'cursed': 1446, \"cryin'\": 1447, 'salute': 1448, 'american': 1449, 'motown': 1450, 'expensive': 1451, 'range': 1452, 'rovers': 1453, 'jaguars': 1454, 'fancy': 1455, 'i\\x96': 1456, 'swaying': 1457, 'rushes': 1458, 'indentation': 1459, 'shape': 1460, 'tattoo': 1461, 'anticipation': 1462, 'desperately': 1463, 'glitter': 1464, 'carrying': 1465, 'shoes': 1466, 'lobby': 1467, 'candle': 1468, 'wax': 1469, 'polaroids': 1470, 'hardwood': 1471, 'chevy': 1472, 'tendency': 1473, 'stuck': 1474, 'backroads': 1475, 'beside': 1476, \"thankin'\": 1477, 'box': 1478, 'summers': 1479, 'bittersweet': 1480, \"lookin'\": 1481, \"standin'\": 1482, 'doorstep': 1483, 'mmmm': 1484, 'obvious': 1485, 'fantasy': 1486, 'obsessive': 1487, 'gay': 1488, 'planning': 1489, 'stopping': 1490, 'health': 1491, 'case': 1492, 'needing': 1493, \"she'd\": 1494, 'sleeve': 1495, 'sunshine': 1496, \"tomorrow's\": 1497, 'mission': 1498, 'easily': 1499, 'shade': 1500, 'wished': 1501, 'nerve': 1502, 'adore': 1503, 'condescending': 1504, 'traveled': 1505, 'helped': 1506, 'notices': 1507, 'beauty': 1508, 'extra': 1509, 'penny': 1510, \"cory's\": 1511, 'jungle': 1512, 'cory': 1513, 'highlight': 1514, 'expect': 1515, 'resist': 1516, 'backyard': 1517, 'tree': 1518, 'dared': 1519, 'sixteen': 1520, 'creek': 1521, 'goodnight': 1522, 'rock': 1523, 'babies': 1524, 'steering': 1525, 'wheel': 1526, 'steps': 1527, 'trampled': 1528, 'thrown': 1529, 'hallway': 1530, 'listened': 1531, 'waited': 1532, 'laughs': 1533, 'grabbed': 1534, 'pen': 1535, 'napkin': 1536, 'friday': 1537, 'behind': 1538, 'yard': 1539, 'painting': 1540, 'crickets': 1541, 'deepest': 1542, 'anybody': 1543, 'wanting': 1544, 'writing': 1545, 'sense': 1546, 'unbroken': 1547, 'rained': 1548, 'glow': 1549, 'parking': 1550, 'absent': 1551, 'mindedly': 1552, \"passenger's\": 1553, 'capture': 1554, 'doorway': 1555, 'usually': 1556, 'hi': 1557, \"everybody's\": 1558, 'freshman': 1559, 'senior': 1560, 'wink': 1561, 'count': 1562, 'class': 1563, 'redhead': 1564, 'named': 1565, 'outta': 1566, \"momma's\": 1567, 'spin': 1568, 'greater': 1569, 'dating': 1570, 'gowns': 1571, 'pebbles': 1572, 'difficult': 1573, 'fading': 1574, 'outskirts': 1575, 'knelt': 1576, 'pulled': 1577, 'ring': 1578, 'talked': 1579, \"'yes'\": 1580, 'deceiving': 1581, 'believing': 1582, 'wonderful': 1583, 'dimming': 1584, 'fifty': 1585, 'choose': 1586, 'paced': 1587, 'naive': 1588, 'upper': 1589, 'treat': 1590, 'rear': 1591, 'disappearing': 1592, 'upset': 1593, 'humor': 1594, 'typical': 1595, 'short': 1596, 'skirts': 1597, 'shirts': 1598, 'worn': 1599, 'ought': 1600, 'park': 1601, 'bench': 1602, 'whatcha': 1603, 'sneakers': 1604, 'none': 1605, 'bump': 1606, 'swerve': 1607, 'eh': 1608, \"someone's\": 1609, 'frustrated': 1610, 'wasting': 1611, 'chances': 1612, 'sensible': 1613, 'opens': 1614, 'respects': 1615, 'business': 1616, 'charming': 1617, 'endearing': 1618, 'comfortable': 1619, \"heart's\": 1620, 'frustrating': 1621, 'intoxicating': 1622, 'acted': 1623, 'kidding': 1624, 'halfway': 1625, 'cuts': 1626, 'core': 1627, 'smiling': 1628, 'pumpkin': 1629, 'patch': 1630, 'tractor': 1631, 'rides': 1632, 'hug': 1633, 'legs': 1634, 'snow': 1635, \"white's\": 1636, 'thirteen': 1637, 'shop': 1638, 'forgotten': 1639, 'ride': 1640, 'excellent': 1641, 'strength': 1642, 'video': 1643, 'princesses': 1644, 'pirate': 1645, 'dwarfs': 1646, 'prettiest': 1647, 'lady': 1648, 'final': 1649, 'hits': 1650, 'repeating': 1651, 'outnumbered': 1652, 'raided': 1653, 'cornered': 1654, 'finding': 1655, 'champions': 1656, 'sang': 1657, 'college': 1658, 'working': 1659, 'bother': 1660, 'forward': 1661, 'guarded': 1662, \"parents'\": 1663, 'bills': 1664, '30': 1665, 'slipping': 1666, 'followed': 1667, 'braced': 1668, 'full': 1669, 'rainstorm': 1670, 'cards': 1671, 'send': 1672, 'forgets': 1673, 'patiently': 1674, 'fingers': 1675, 'soft': 1676, 'captivated': 1677, 'firework': 1678, 'busier': 1679, 'passenger': 1680, 'crept': 1681, 'tan': 1682, 'wishful': 1683, 'mindless': 1684, 'snotty': 1685, 'pastel': 1686, 'yelling': 1687, 'bridesmaid': 1688, 'gown': 1689, 'shaped': 1690, 'pastry': 1691, 'surely': 1692, 'fond': 1693, 'gestures': 1694, 'exchanged': 1695, 'organ': 1696, 'sounds': 1697, 'death': 1698, 'march': 1699, 'curtains': 1700, 'uninvited': 1701, 'lovely': 1702, 'bride': 1703, 'floats': 1704, 'pageant': 1705, 'preacher': 1706, 'horrified': 1707, 'hehe': 1708, 'tux': 1709, 'vows': 1710, 'revolved': 1711, 'accused': 1712, 'lived': 1713, 'chess': 1714, 'everyday': 1715, \"wonderin'\": 1716, 'version': 1717, 'stopped': 1718, \"pickin'\": 1719, 'optimism': 1720, 'add': 1721, \"nineteen's\": 1722, 'twisted': 1723, 'expert': 1724, 'blurry': 1725, 'impressed': 1726, 'acing': 1727, 'tests': 1728, 'dry': 1729, 'lifeless': 1730, 'matches': 1731, 'fireworks': 1732, 'swords': 1733, 'weapons': 1734, 'nails': 1735, 'chalkboard': 1736, 'wounded': 1737, 'weaker': 1738, 'switching': 1739, 'wildfire': 1740, 'humiliation': 1741, 'pointed': 1742, 'cycle': 1743, 'opinion': 1744, 'washed': 1745, 'ranting': 1746, 'bitter': 1747, 'grumbling': 1748, 'liar': 1749, 'pathetic': 1750, 'instantly': 1751, 'complication': 1752, 'miscommunications': 1753, 'fallout': 1754, 'chapter': 1755, \"how'd\": 1756, 'nervously': 1757, 'pulling': 1758, 'avoid': 1759, 'starting': 1760, 'contest': 1761, \"battle's\": 1762, 'lay': 1763, 'rather': 1764, \"hand's\": 1765, 'finger': 1766, 'eyelids': 1767, 'flutter': 1768, \"everything's\": 1769, 'desert': 1770, 'mortified': 1771, \"mom's\": 1772, 'dropping': 1773, '14': 1774, \"pj's\": 1775, 'scarred': 1776, 'childhood': 1777, \"brother's\": 1778, 'colder': 1779, 'forcing': 1780, 'laughter': 1781, 'insincerity': 1782, 'shifting': 1783, 'vacancy': 1784, 'vanished': 1785, 'silhouette': 1786, 'playful': 1787, 'passing': 1788, 'notes': 1789, 'secrecy': 1790, 'lingering': 1791, 'question': 1792, 'kept': 1793, 'awake': 1794, 'storyline': 1795, 'thoughts': 1796, 'echo': 1797, 'hot': 1798, 'suspected': 1799, 'dealing': 1800, 'drum': 1801, 'trend': 1802, 'present': 1803, 'frown': 1804, 'troubling': 1805, 'psycho': 1806, 'sophistication': 1807, 'pushing': 1808, 'prep': 1809, 'amount': 1810, 'vintage': 1811, 'dresses': 1812, 'gives': 1813, 'deserve': 1814, 'warpath': 1815, 'lunchbox': 1816, 'crawl': 1817, 'shattered': 1818, 'firefly': 1819, 'catching': 1820, 'ohwho': 1821, 'embers': 1822, 'septembers': 1823, 'finish': 1824, 'lit': 1825, 'darkness': 1826, '58': 1827, 'smell': 1828, 'fresh': 1829, '9th': 1830, 'jumps': 1831, 'showing': 1832, 'handshake': 1833, 'meeting': 1834, 'kissed': 1835, 'rude': 1836, 'interruptions': 1837, 'shines': 1838, 'plan': 1839, 'planned': 1840, 'stands': 1841, 'hero': 1842, 'decade': 1843, 'traded': 1844, 'baseball': 1845, 'cap': 1846, 'trophies': 1847, 'cynics': 1848, 'outraged': 1849, 'absurd': 1850, 'thieves': 1851, 'ripped': 1852, 'confetti': 1853, 'may': 1854, 'forbid': 1855, 'force': 1856, 'children': 1857, 'point': 1858, 'elevator': 1859, \"strangers'\": 1860, 'vacant': 1861, 'stares': 1862, 'disapproves': 1863, 'judge': 1864, 'verdict': 1865, \"jury's\": 1866, 'sleeves': 1867, 'lurking': 1868, 'gloss': 1869, 'speculate': 1870, 'doubt': 1871, 'gap': 1872, 'teeth': 1873, 'riddles': 1874, 'snide': 1875, 'tattoos': 1876, 'reaching': 1877, 'thousand': 1878, 'happen': 1879, 'puts': 1880, 'papers': 1881, 'briefcase': 1882, \"father's\": 1883, 'ambition': 1884, 'yay': 1885, '\\x94': 1886, 'irrational': 1887, 'brown': 1888, 'card': 1889, 'traffic': 1890, 'bleeds': 1891, 'fades': 1892, 'pierce': 1893, 'cannon': 1894, 'slates': 1895, 'mosaic': 1896, 'achilles': 1897, 'heel': 1898, 'passionate': 1899, 'colors': 1900, 'memorizing': 1901, 'crossword': 1902, 'answer': 1903, 'regretting': 1904, 'remembering': 1905, 'flashbacks': 1906, 'focus': 1907, \"gravity's\": 1908, 'sand': 1909, 'bone': 1910, 'trained': 1911, 'flow': 1912, 'friction': 1913, 'sights': 1914, 'apologies': 1915, \"he'll\": 1916, 'pretends': 1917, 'notch': 1918, 'belt': 1919, 'saddest': 1920, 'creeping': 1921, \"sister's\": 1922, 'disposition': 1923, 'eyed': 1924, 'gaze': 1925, 'upstate': 1926, \"magic's\": 1927, 'photo': 1928, 'glasses': 1929, 'sized': 1930, 'tee': 1931, 'taught': 1932, 'refrigerator': 1933, 'translation': 1934, 'masterpiece': 1935, \"'till\": 1936, 'tore': 1937, 'casually': 1938, 'crumpled': 1939, 'paralyzed': 1940, 'plaid': 1941, 'mail': 1942, 'innocence': 1943, 'smells': 1944, 'rid': 1945, 'hipsters': 1946, 'breakfast': 1947, 'deadlines': 1948, 'anyway': 1949, 'ew': 1950, 'heartbreaks': 1951, 'either': 1952, 'reply': 1953, 'occurred': 1954, 'confess': 1955, \"sittin'\": 1956, '\\x96': 1957, 'u': 1958, '203d': 1959, 'lasted': 1960, 'fights': 1961, 'indie': 1962, 'cooler': 1963, 'oh\\x97oh\\x97oh': 1964, 'just\\x97': 1965, 'exhausting': 1966, 'dramatic': 1967, 'unresolved': 1968, 'helmet': 1969, 'dated': 1970, 'indulgent': 1971, 'takers': 1972, 'groceries': 1973, 'occurring': 1974, 'eee': 1975, 'roads': 1976, 'imagine': 1977, 'apology': 1978, 'aching': 1979, 'reminiscing': 1980, 'having': 1981, 'glance': 1982, 'poems': 1983, 'ourselves': 1984, 'blocked': 1985, \"'i\": 1986, \"you'\": 1987, \"story's\": 1988, 'handwritten': 1989, 'hopeful': 1990, 'cities': 1991, 'erasing': 1992, 'demons': 1993, 'breakdown': 1994, 'train': 1995, 'fortune': 1996, 'fame': 1997, 'camera': 1998, 'flashes': 1999, \"sixties'\": 2000, 'diamonds': 2001, 'riviera': 2002, 'views': 2003, 'foyer': 2004, 'splashed': 2005, 'legend': 2006, 'disappeared': 2007, 'bunch': 2008, 'land': 2009, 'chose': 2010, 'madison': 2011, 'square': 2012, '18': 2013, 'freckles': 2014, 'stomach': 2015, 'missed': 2016, 'highest': 2017, 'bobby': 2018, 'boardwalk': 2019, \"'45\": 2020, 'picked': 2021, '17': 2022, 'snuck': 2023, 'yacht': 2024, 'duchess': 2025, 'worrying': 2026, 'blues': 2027, 'married': 2028, 'wore': 2029, 'headphones': 2030, 'early': 2031, 'wave': 2032, 'records': 2033, 'shy': 2034, 'watches': 2035, 'burst': 2036, \"'baby\": 2037, \"here'\": 2038, 'million': 2039, 'aligned': 2040, 'glisten': 2041, 'ticking': 2042, 'comb': 2043, 'memory': 2044, 'hopelessly': 2045, \"he'd\": 2046, 'streaming': 2047, 'means': 2048, '4': 2049, 'stumbled': 2050, 'attached': 2051, 'beginning': 2052, 'nonchalant': 2053, 'cabs': 2054, 'cruelest': 2055, 'worlds': 2056, 'responsibility': 2057, 'upstanding': 2058, 'code': 2059, 'crossing': 2060, 'exception': 2061, 'previously': 2062, 'waits': 2063, 'chase': 2064, 'newest': 2065, 'granted': 2066, 'consider': 2067, 'lesson': 2068, 'village': 2069, 'aglow': 2070, 'kaleidoscope': 2071, 'heartbeats': 2072, 'coats': 2073, 'bags': 2074, 'floors': 2075, 'guessing': 2076, 'madness': 2077, 'ayy': 2078, 'suit': 2079, 'tie': 2080, 'magazine': 2081, 'passport': 2082, 'weekend': 2083, 'cherry': 2084, 'crystal': 2085, 'stolen': 2086, 'storms': 2087, \"guessin'\": 2088, 'jealousy': 2089, 'nightmare': 2090, 'leads': 2091, 'polaroid': 2092, 'furniture': 2093, 'airplanes': 2094, 'brakes': 2095, 'stitches': 2096, 'hospital': 2097, 'heat': 2098, 'setting': 2099, 'drove': 2100, 'aside': 2101, 'ended': 2102, 'brain': 2103, 'dates': 2104, \"movin'\": 2105, 'lightning': 2106, \"groovin'\": 2107, 'cheats': 2108, '\\x93oh': 2109, 'god\\x94': 2110, 'fella': 2111, 'hella': 2112, 'mmhm': 2113, 'pane': 2114, 'x7': 2115, 'x8': 2116, 'trusted': 2117, 'shiny': 2118, 'rusted': 2119, 'weak': 2120, 'rub': 2121, 'salt': 2122, 'wound': 2123, 'wounds': 2124, 'begins': 2125, 'condition': 2126, 'familiar': 2127, 'request': 2128, \"burnin'\": 2129, 'tides': 2130, 'darker': 2131, 'currents': 2132, 'silent': 2133, 'dreamed': 2134, 'struggle': 2135, 'lantern': 2136, 'flickered': 2137, 'grip': 2138, 'cheek': 2139, 'waistline': 2140, 'plain': 2141, 'happens': 2142, 'vultures': 2143, 'circling': 2144, 'clouds': 2145, 'flame': 2146, 'cages': 2147, 'boxes': 2148, 'guns': 2149, 'fences': 2150, 'loose': 2151, 'stained': 2152, 'war': 2153, 'covered': 2154, 'punched': 2155, 'flood': 2156, 'lungs': 2157, 'screamed': 2158, 'sober': 2159, 'admit': 2160, 'flashing': 2161, 'rabbit': 2162, 'control': 2163, 'becomes': 2164, 'curious': 2165, \"twistin'\": 2166, 'slept': 2167, 'seemed': 2168, 'calm': 2169, 'cheshire': 2170, 'cat': 2171, 'twisting': 2172, 'loses': 2173, \"darlin'\": 2174, 'reached': 2175, 'searched': 2176, 'meant': 2177, 'lighthearted': 2178, 'reflects': 2179, 'brush': 2180, 'burnt': 2181, 'sunday': 2182, 'wakes': 2183, 'pauses': 2184, 'snowglobe': 2185, 'office': 2186, 'downtown': 2187, 'fought': 2188, 'wars': 2189, 'bored': 2190, 'trains': 2191, 'letters': 2192, 'dumb': 2193, 'mascara': 2194, 'classroom': 2195, 'blinding': 2196, 'poker': 2197, 'ace': 2198, 'danger': 2199, 'switch': 2200, 'changer': 2201, 'terrible': 2202, 'stranded': 2203, 'killer': 2204, 'wondered': 2205, 'phantom': 2206, 'ransom': 2207, 'younger': 2208, 'vendetta': 2209, 'ta': 2210, 'robber': 2211, 'thief': 2212, 'join': 2213, 'heist': 2214, 'jailer': 2215, 'burton': 2216, 'comparison': 2217, 'failure': 2218, 'tame': 2219, 'dope': 2220, 'overdose': 2221, 'stoked': 2222, \"whippin'\": 2223, 'boat': 2224, 'precede': 2225, 'g5': 2226, 'persona': 2227, 'protect': 2228, 'reconnected': 2229, 'sprung': 2230, 'issues': 2231, 'chips': 2232, 'ignore': 2233, 'argue': 2234, 'traits': 2235, 'ease': 2236, 'paranoia': 2237, 'insecurities': 2238, 'choices': 2239, 'deny': 2240, 'born': 2241, '4th': 2242, 'tip': 2243, 'tongue': 2244, 'bang': 2245, 'bury': 2246, 'hatchets': 2247, 'maps': 2248, 'prints': 2249, 'liquor': 2250, 'bluff': 2251, 'tricks': 2252, 'ed': 2253, 'sheeran': 2254, 'narcissist': 2255, 'violin': 2256, 'crimson': 2257, 'shit': 2258, 'playboy': 2259, 'saved': 2260, 'drops': 2261, \"nothin'\": 2262, 'spends': 2263, 'pitchforks': 2264, 'receipts': 2265, \"breakin'\": 2266, \"toyin'\": 2267, 'playthings': 2268, \"shakin'\": 2269, \"pacin'\": 2270, 'cross': 2271, 'waste': 2272, 'halo': 2273, 'obsession': 2274, 'poison': 2275, 'ivy': 2276, 'daisy': 2277, 'dive': 2278, 'east': 2279, 'nightstand': 2280, 'nikes': 2281, 'third': 2282, 'west': 2283, 'mansion': 2284, 'tilted': 2285, 'stage': 2286, 'role': 2287, 'fool': 2288, 'crime': 2289, 'gun': 2290, 'belonged': 2291, 'feast': 2292, 'karma': 2293, \"thing's\": 2294, 'magician': 2295, 'cage': 2296, 'hostage': 2297, 'feelings': 2298, 'illusionist': 2299, '3': 2300, '\\x85': 2301, 'magnetic': 2302, 'boyfriend': 2303, 'whiskey': 2304, 'ice': 2305, 'vine': 2306, 'ruined': 2307, 'darkened': 2308, 'drown': 2309, 'stumble': 2310, 'cats': 2311, 'crimes': 2312, 'blew': 2313, 'ties': 2314, 'candlelight': 2315, \"lyin'\": 2316, 'prison': 2317, \"drinkin'\": 2318, \"runnin'\": 2319, \"screamin'\": 2320, 'sideshow': 2321, 'circus': 2322, 'himself': 2323, 'bonnie': 2324, 'clyde': 2325, 'switched': 2326, 'si': 2327, 'ide': 2328, 'motel': 2329, 'bag': 2330, 'stole': 2331, \"bein'\": 2332, 'weeks': 2333, \"callin'\": 2334, \"city's\": 2335, 'priorities': 2336, 'taste': 2337, 'luxury': 2338, 'bones': 2339, 'mending': 2340, 'crush': 2341, 'beer': 2342, 'plastic': 2343, 'cups': 2344, 'stuff': 2345, 'frozen': 2346, 'sacred': 2347, 'oasis': 2348, 'putting': 2349, 'paces': 2350, 'spite': 2351, 'divide': 2352, 'avalanche': 2353, 'gravity': 2354, 'moments': 2355, 'inescapable': 2356, 'electrified': 2357, 'spilling': 2358, 'bathtub': 2359, 'about\\x97': 2360, 'buzzcut': 2361, 'bleached': 2362, 'rebounds': 2363, 'earthquakes': 2364, 'lifeline': 2365, 'explain': 2366, 'parties': 2367, 'pool': 2368, 'swimming': 2369, 'champagne': 2370, 'sea': 2371, 'bass': 2372, 'rattling': 2373, 'chandelier': 2374, 'gatsby': 2375, 'parade': 2376, 'locking': 2377, 'gates': 2378, 'stabbed': 2379, 'therein': 2380, 'issue': 2381, 'trick': 2382, 'axe': 2383, 'mended': 2384, 'fence': 2385, 'shady': 2386, 'reading': 2387, 'momma': 2388, 'crumbled': 2389, 'knife': 2390, 'gunfight': 2391, 'boarded': 2392, 'swings': 2393, 'jokers': 2394, 'dressing': 2395, 'bridges': 2396, \"makin'\": 2397, 'forts': 2398, 'covers': 2399, 'starry': 2400, \"sparkin'\": 2401, 'initial': 2402, 'owns': 2403, 'november': 2404, 'slowly': 2405, 'want\\x85': 2406, 'squeeze': 2407}\n",
            "2408\n"
          ],
          "name": "stdout"
        }
      ]
    },
    {
      "cell_type": "code",
      "metadata": {
        "id": "0ntgT-lgAtNZ",
        "colab_type": "code",
        "colab": {}
      },
      "source": [
        "input_sequences = []\n",
        "for line in corpus:\n",
        "\ttoken_list = tokenizer.texts_to_sequences([line])[0]\n",
        "\tfor i in range(1, len(token_list)):\n",
        "\t\tn_gram_sequence = token_list[:i+1]\n",
        "\t\tinput_sequences.append(n_gram_sequence)\n",
        "\n",
        "# pad sequences \n",
        "max_sequence_len = max([len(x) for x in input_sequences])\n",
        "input_sequences = np.array(pad_sequences(input_sequences, maxlen=max_sequence_len, padding='pre'))\n",
        "\n",
        "# create predictors and label\n",
        "xs, labels = input_sequences[:,:-1],input_sequences[:,-1]\n",
        "\n",
        "ys = tf.keras.utils.to_categorical(labels, num_classes=total_words)"
      ],
      "execution_count": 0,
      "outputs": []
    },
    {
      "cell_type": "code",
      "metadata": {
        "id": "j_ExH8FrA_Qw",
        "colab_type": "code",
        "colab": {}
      },
      "source": [
        "print(tokenizer.word_index['in'])\n",
        "print(tokenizer.word_index['the'])\n",
        "print(tokenizer.word_index['dead'])\n",
        "print(tokenizer.word_index['door'])\n",
        "print(tokenizer.word_index['run'])\n",
        "print(tokenizer.word_index['hate'])\n",
        "print(tokenizer.word_index['cool'])\n",
        "print(tokenizer.word_index['boy'])"
      ],
      "execution_count": 0,
      "outputs": []
    },
    {
      "cell_type": "code",
      "metadata": {
        "id": "aw84qMnLBlGI",
        "colab_type": "code",
        "colab": {}
      },
      "source": [
        "print(xs[5])\n",
        "print(ys[5])\n",
        "print(xs[6])\n",
        "print(ys[6])\n",
        "print(tokenizer.word_index)"
      ],
      "execution_count": 0,
      "outputs": []
    },
    {
      "cell_type": "code",
      "metadata": {
        "id": "Yt9REfs6B_TI",
        "colab_type": "code",
        "outputId": "2081404b-667d-415c-ab93-dfe073d9c583",
        "colab": {
          "base_uri": "https://localhost:8080/",
          "height": 1000
        }
      },
      "source": [
        "model = Sequential()\n",
        "model.add(Embedding(total_words, 100, input_length=max_sequence_len-1))\n",
        "model.add(Bidirectional(LSTM(150)))\n",
        "model.add(Dense(total_words, activation='softmax'))\n",
        "adam = Adam(lr=0.01)\n",
        "model.compile(loss='categorical_crossentropy', optimizer=adam, metrics=['accuracy'])\n",
        "#earlystop = EarlyStopping(monitor='val_loss', min_delta=0, patience=5, verbose=0, mode='auto')\n",
        "history = model.fit(xs, ys, epochs=100, verbose=1)\n",
        "#print model.summary()\n",
        "print(model)\n",
        "model.save('/content/files/auto_lyrics_model.h5')"
      ],
      "execution_count": 0,
      "outputs": [
        {
          "output_type": "stream",
          "text": [
            "Epoch 1/100\n",
            "957/957 [==============================] - 9s 9ms/step - loss: 5.1883 - accuracy: 0.1523\n",
            "Epoch 2/100\n",
            "957/957 [==============================] - 9s 9ms/step - loss: 3.7386 - accuracy: 0.3110\n",
            "Epoch 3/100\n",
            "957/957 [==============================] - 9s 9ms/step - loss: 3.0241 - accuracy: 0.3925\n",
            "Epoch 4/100\n",
            "957/957 [==============================] - 9s 9ms/step - loss: 2.7514 - accuracy: 0.4332\n",
            "Epoch 5/100\n",
            "957/957 [==============================] - 9s 9ms/step - loss: 2.4383 - accuracy: 0.4745\n",
            "Epoch 6/100\n",
            "957/957 [==============================] - 9s 9ms/step - loss: 2.2075 - accuracy: 0.5007\n",
            "Epoch 7/100\n",
            "957/957 [==============================] - 9s 9ms/step - loss: 2.0556 - accuracy: 0.5244\n",
            "Epoch 8/100\n",
            "957/957 [==============================] - 9s 9ms/step - loss: 1.9515 - accuracy: 0.5475\n",
            "Epoch 9/100\n",
            "957/957 [==============================] - 9s 9ms/step - loss: 1.8877 - accuracy: 0.5566\n",
            "Epoch 10/100\n",
            "957/957 [==============================] - 9s 10ms/step - loss: 1.8200 - accuracy: 0.5690\n",
            "Epoch 11/100\n",
            "957/957 [==============================] - 9s 9ms/step - loss: 1.7952 - accuracy: 0.5716\n",
            "Epoch 12/100\n",
            "957/957 [==============================] - 9s 9ms/step - loss: 1.8045 - accuracy: 0.5655\n",
            "Epoch 13/100\n",
            "957/957 [==============================] - 9s 9ms/step - loss: 1.7868 - accuracy: 0.5733\n",
            "Epoch 14/100\n",
            "957/957 [==============================] - 9s 9ms/step - loss: 1.7514 - accuracy: 0.5785\n",
            "Epoch 15/100\n",
            "957/957 [==============================] - 8s 9ms/step - loss: 1.7485 - accuracy: 0.5798\n",
            "Epoch 16/100\n",
            "957/957 [==============================] - 9s 9ms/step - loss: 1.6978 - accuracy: 0.5872\n",
            "Epoch 17/100\n",
            "957/957 [==============================] - 9s 9ms/step - loss: 1.6685 - accuracy: 0.5943\n",
            "Epoch 18/100\n",
            "957/957 [==============================] - 9s 9ms/step - loss: 1.7176 - accuracy: 0.5859\n",
            "Epoch 19/100\n",
            "957/957 [==============================] - 8s 9ms/step - loss: 1.6844 - accuracy: 0.5887\n",
            "Epoch 20/100\n",
            "957/957 [==============================] - 9s 9ms/step - loss: 1.6578 - accuracy: 0.5969\n",
            "Epoch 21/100\n",
            "957/957 [==============================] - 9s 9ms/step - loss: 1.6507 - accuracy: 0.5992\n",
            "Epoch 22/100\n",
            "957/957 [==============================] - 9s 9ms/step - loss: 1.7114 - accuracy: 0.5872\n",
            "Epoch 23/100\n",
            "957/957 [==============================] - 9s 9ms/step - loss: 1.6608 - accuracy: 0.5954\n",
            "Epoch 24/100\n",
            "957/957 [==============================] - 9s 9ms/step - loss: 1.6238 - accuracy: 0.6032\n",
            "Epoch 25/100\n",
            "957/957 [==============================] - 9s 9ms/step - loss: 1.6237 - accuracy: 0.6026\n",
            "Epoch 26/100\n",
            "957/957 [==============================] - 9s 9ms/step - loss: 1.6191 - accuracy: 0.6045\n",
            "Epoch 27/100\n",
            "957/957 [==============================] - 9s 9ms/step - loss: 1.6008 - accuracy: 0.6066\n",
            "Epoch 28/100\n",
            "957/957 [==============================] - 8s 9ms/step - loss: 1.6120 - accuracy: 0.6055\n",
            "Epoch 29/100\n",
            "957/957 [==============================] - 9s 9ms/step - loss: 1.6002 - accuracy: 0.6084\n",
            "Epoch 30/100\n",
            "957/957 [==============================] - 9s 9ms/step - loss: 1.6018 - accuracy: 0.6063\n",
            "Epoch 31/100\n",
            "957/957 [==============================] - 9s 9ms/step - loss: 1.5792 - accuracy: 0.6135\n",
            "Epoch 32/100\n",
            "957/957 [==============================] - 9s 9ms/step - loss: 1.6708 - accuracy: 0.5997\n",
            "Epoch 33/100\n",
            "957/957 [==============================] - 8s 9ms/step - loss: 1.7129 - accuracy: 0.5865\n",
            "Epoch 34/100\n",
            "957/957 [==============================] - 9s 9ms/step - loss: 1.6148 - accuracy: 0.6045\n",
            "Epoch 35/100\n",
            "957/957 [==============================] - 8s 9ms/step - loss: 1.6064 - accuracy: 0.6071\n",
            "Epoch 36/100\n",
            "957/957 [==============================] - 8s 9ms/step - loss: 1.6032 - accuracy: 0.6074\n",
            "Epoch 37/100\n",
            "957/957 [==============================] - 9s 9ms/step - loss: 1.5977 - accuracy: 0.6074\n",
            "Epoch 38/100\n",
            "957/957 [==============================] - 9s 9ms/step - loss: 1.5932 - accuracy: 0.6102\n",
            "Epoch 39/100\n",
            "957/957 [==============================] - 9s 9ms/step - loss: 1.5878 - accuracy: 0.6119\n",
            "Epoch 40/100\n",
            "957/957 [==============================] - 8s 9ms/step - loss: 1.5836 - accuracy: 0.6115\n",
            "Epoch 41/100\n",
            "957/957 [==============================] - 9s 9ms/step - loss: 1.5880 - accuracy: 0.6118\n",
            "Epoch 42/100\n",
            "957/957 [==============================] - 9s 9ms/step - loss: 1.6101 - accuracy: 0.6092\n",
            "Epoch 43/100\n",
            "957/957 [==============================] - 8s 9ms/step - loss: 1.5868 - accuracy: 0.6136\n",
            "Epoch 44/100\n",
            "957/957 [==============================] - 8s 9ms/step - loss: 1.5861 - accuracy: 0.6136\n",
            "Epoch 45/100\n",
            "957/957 [==============================] - 9s 9ms/step - loss: 1.5563 - accuracy: 0.6186\n",
            "Epoch 46/100\n",
            "957/957 [==============================] - 9s 10ms/step - loss: 1.5712 - accuracy: 0.6130\n",
            "Epoch 47/100\n",
            "957/957 [==============================] - 9s 9ms/step - loss: 1.5611 - accuracy: 0.6186\n",
            "Epoch 48/100\n",
            "957/957 [==============================] - 9s 9ms/step - loss: 1.5942 - accuracy: 0.6124\n",
            "Epoch 49/100\n",
            "957/957 [==============================] - 9s 9ms/step - loss: 1.5697 - accuracy: 0.6154\n",
            "Epoch 50/100\n",
            "957/957 [==============================] - 9s 9ms/step - loss: 1.5887 - accuracy: 0.6123\n",
            "Epoch 51/100\n",
            "957/957 [==============================] - 9s 9ms/step - loss: 1.5464 - accuracy: 0.6205\n",
            "Epoch 52/100\n",
            "957/957 [==============================] - 9s 9ms/step - loss: 1.5612 - accuracy: 0.6194\n",
            "Epoch 53/100\n",
            "957/957 [==============================] - 8s 9ms/step - loss: 1.5595 - accuracy: 0.6210\n",
            "Epoch 54/100\n",
            "957/957 [==============================] - 9s 9ms/step - loss: 1.5630 - accuracy: 0.6177\n",
            "Epoch 55/100\n",
            "957/957 [==============================] - 9s 9ms/step - loss: 1.5294 - accuracy: 0.6249\n",
            "Epoch 56/100\n",
            "957/957 [==============================] - 9s 9ms/step - loss: 1.5640 - accuracy: 0.6185\n",
            "Epoch 57/100\n",
            "957/957 [==============================] - 9s 9ms/step - loss: 1.6070 - accuracy: 0.6118\n",
            "Epoch 58/100\n",
            "957/957 [==============================] - 9s 9ms/step - loss: 1.5622 - accuracy: 0.6192\n",
            "Epoch 59/100\n",
            "957/957 [==============================] - 8s 9ms/step - loss: 1.5443 - accuracy: 0.6224\n",
            "Epoch 60/100\n",
            "957/957 [==============================] - 9s 9ms/step - loss: 1.5796 - accuracy: 0.6173\n",
            "Epoch 61/100\n",
            "957/957 [==============================] - 9s 9ms/step - loss: 1.6559 - accuracy: 0.6026\n",
            "Epoch 62/100\n",
            "957/957 [==============================] - 9s 9ms/step - loss: 1.5637 - accuracy: 0.6196\n",
            "Epoch 63/100\n",
            "957/957 [==============================] - 8s 9ms/step - loss: 1.5249 - accuracy: 0.6274\n",
            "Epoch 64/100\n",
            "957/957 [==============================] - 9s 9ms/step - loss: 1.5436 - accuracy: 0.6256\n",
            "Epoch 65/100\n",
            "957/957 [==============================] - 9s 9ms/step - loss: 1.5423 - accuracy: 0.6239\n",
            "Epoch 66/100\n",
            "957/957 [==============================] - 9s 9ms/step - loss: 1.5589 - accuracy: 0.6221\n",
            "Epoch 67/100\n",
            "957/957 [==============================] - 9s 9ms/step - loss: 1.5136 - accuracy: 0.6316\n",
            "Epoch 68/100\n",
            "957/957 [==============================] - 9s 9ms/step - loss: 1.5590 - accuracy: 0.6229\n",
            "Epoch 69/100\n",
            "957/957 [==============================] - 9s 9ms/step - loss: 1.5521 - accuracy: 0.6226\n",
            "Epoch 70/100\n",
            "957/957 [==============================] - 9s 9ms/step - loss: 1.5200 - accuracy: 0.6307\n",
            "Epoch 71/100\n",
            "957/957 [==============================] - 9s 9ms/step - loss: 1.5039 - accuracy: 0.6359\n",
            "Epoch 72/100\n",
            "957/957 [==============================] - 9s 9ms/step - loss: 1.5342 - accuracy: 0.6300\n",
            "Epoch 73/100\n",
            "957/957 [==============================] - 9s 9ms/step - loss: 1.5237 - accuracy: 0.6302\n",
            "Epoch 74/100\n",
            "957/957 [==============================] - 8s 9ms/step - loss: 1.5150 - accuracy: 0.6316\n",
            "Epoch 75/100\n",
            "957/957 [==============================] - 9s 9ms/step - loss: 1.4752 - accuracy: 0.6368\n",
            "Epoch 76/100\n",
            "957/957 [==============================] - 9s 9ms/step - loss: 1.5072 - accuracy: 0.6334\n",
            "Epoch 77/100\n",
            "957/957 [==============================] - 9s 9ms/step - loss: 1.5286 - accuracy: 0.6285\n",
            "Epoch 78/100\n",
            "957/957 [==============================] - 8s 9ms/step - loss: 1.5185 - accuracy: 0.6305\n",
            "Epoch 79/100\n",
            "957/957 [==============================] - 9s 9ms/step - loss: 1.4960 - accuracy: 0.6378\n",
            "Epoch 80/100\n",
            "957/957 [==============================] - 8s 9ms/step - loss: 1.4718 - accuracy: 0.6406\n",
            "Epoch 81/100\n",
            "957/957 [==============================] - 8s 9ms/step - loss: 1.5046 - accuracy: 0.6346\n",
            "Epoch 82/100\n",
            "957/957 [==============================] - 9s 10ms/step - loss: 1.4895 - accuracy: 0.6343\n",
            "Epoch 83/100\n",
            "957/957 [==============================] - 9s 9ms/step - loss: 1.4805 - accuracy: 0.6392\n",
            "Epoch 84/100\n",
            "957/957 [==============================] - 9s 9ms/step - loss: 1.5016 - accuracy: 0.6341\n",
            "Epoch 85/100\n",
            "957/957 [==============================] - 9s 9ms/step - loss: 1.4854 - accuracy: 0.6371\n",
            "Epoch 86/100\n",
            "957/957 [==============================] - 8s 9ms/step - loss: 1.4977 - accuracy: 0.6379\n",
            "Epoch 87/100\n",
            "957/957 [==============================] - 9s 9ms/step - loss: 1.4877 - accuracy: 0.6361\n",
            "Epoch 88/100\n",
            "957/957 [==============================] - 9s 9ms/step - loss: 1.4566 - accuracy: 0.6405\n",
            "Epoch 89/100\n",
            "957/957 [==============================] - 8s 9ms/step - loss: 1.4364 - accuracy: 0.6496\n",
            "Epoch 90/100\n",
            "957/957 [==============================] - 9s 9ms/step - loss: 1.4356 - accuracy: 0.6491\n",
            "Epoch 91/100\n",
            "957/957 [==============================] - 9s 9ms/step - loss: 1.4416 - accuracy: 0.6453\n",
            "Epoch 92/100\n",
            "957/957 [==============================] - 8s 9ms/step - loss: 1.4556 - accuracy: 0.6462\n",
            "Epoch 93/100\n",
            "957/957 [==============================] - 8s 9ms/step - loss: 1.4448 - accuracy: 0.6485\n",
            "Epoch 94/100\n",
            "957/957 [==============================] - 9s 9ms/step - loss: 1.4222 - accuracy: 0.6540\n",
            "Epoch 95/100\n",
            "957/957 [==============================] - 8s 9ms/step - loss: 1.4468 - accuracy: 0.6485\n",
            "Epoch 96/100\n",
            "957/957 [==============================] - 9s 9ms/step - loss: 1.4629 - accuracy: 0.6457\n",
            "Epoch 97/100\n",
            "957/957 [==============================] - 9s 9ms/step - loss: 1.4675 - accuracy: 0.6434\n",
            "Epoch 98/100\n",
            "957/957 [==============================] - 9s 9ms/step - loss: 1.4405 - accuracy: 0.6492\n",
            "Epoch 99/100\n",
            "957/957 [==============================] - 8s 9ms/step - loss: 1.4102 - accuracy: 0.6518\n",
            "Epoch 100/100\n",
            "957/957 [==============================] - 9s 9ms/step - loss: 1.4245 - accuracy: 0.6517\n",
            "<tensorflow.python.keras.engine.sequential.Sequential object at 0x7fa1b8e49898>\n"
          ],
          "name": "stdout"
        }
      ]
    },
    {
      "cell_type": "code",
      "metadata": {
        "id": "GFPO0pKqFb4E",
        "colab_type": "code",
        "colab": {}
      },
      "source": [
        "model.save('/content/files/auto_lyrics_model.h5')\n",
        "#from keras.models import load_model\n",
        "#model = load_model('my_model.h5')"
      ],
      "execution_count": 0,
      "outputs": []
    },
    {
      "cell_type": "code",
      "metadata": {
        "id": "-iybBDt7FzSn",
        "colab_type": "code",
        "outputId": "6bce6610-d6a3-4eb1-ccaa-5f0565fd5dac",
        "colab": {
          "base_uri": "https://localhost:8080/",
          "height": 279
        }
      },
      "source": [
        "import matplotlib.pyplot as plt\n",
        "\n",
        "\n",
        "def plot_graphs(history, string):\n",
        "  plt.plot(history.history[string])\n",
        "  plt.xlabel(\"Epochs\")\n",
        "  plt.ylabel(string)\n",
        "  plt.show()\n",
        "\n",
        "plot_graphs(history, 'accuracy')"
      ],
      "execution_count": 0,
      "outputs": [
        {
          "output_type": "display_data",
          "data": {
            "image/png": "[encoded data removed]",
            "text/plain": [
              "<Figure size 432x288 with 1 Axes>"
            ]
          },
          "metadata": {
            "tags": [],
            "needs_background": "light"
          }
        }
      ]
    },
    {
      "cell_type": "code",
      "metadata": {
        "id": "7MeFbhuiGBZs",
        "colab_type": "code",
        "outputId": "53809474-d4b6-46e4-f22a-6157d89a66bf",
        "colab": {
          "base_uri": "https://localhost:8080/",
          "height": 54
        }
      },
      "source": [
        "#Testing the model\n",
        "#seed_text = \"you are my destiny\"\n",
        "#seed_text = \"I've got a bad feeling about this\"\n",
        "seed_text=\"he said the way my blue eyes shined\"\n",
        "next_words = 100\n",
        "  \n",
        "for _ in range(next_words):\n",
        "\ttoken_list = tokenizer.texts_to_sequences([seed_text])[0]\n",
        "\ttoken_list = pad_sequences([token_list], maxlen=max_sequence_len-1, padding='pre')\n",
        "\tpredicted = model.predict_classes(token_list, verbose=0)\n",
        "\toutput_word = \"\"\n",
        "\tfor word, index in tokenizer.word_index.items():\n",
        "\t\tif index == predicted:\n",
        "\t\t\toutput_word = word\n",
        "\t\t\tbreak\n",
        "\tseed_text += \" \" + output_word \n",
        "print(seed_text)"
      ],
      "execution_count": 0,
      "outputs": [
        {
          "output_type": "stream",
          "text": [
            "he said the way my blue eyes shined on the bleachers world tonight loved and left haunted planning myself hunters body whoa its sad movie gatsby for cause then discovered end game anymore by it garden clear into stars we'd end me near there enough coaster again last crowd dress cried too without me without fun trying oo whoa whoa ooh whoa ooh whoa ooh whoa leave beds mmm mmm mmm mmm mmm mmm mmm mmm mmm mmm mmm mmm mmm mmm mmm mmm mmm mmm mmm mmm mmm mmm mmm mmm mmm mmm mmm mmm mmm mmm mmm mmm mmm mmm mmm mmm mmm mmm mmm mmm\n"
          ],
          "name": "stdout"
        }
      ]
    }
  ]
}